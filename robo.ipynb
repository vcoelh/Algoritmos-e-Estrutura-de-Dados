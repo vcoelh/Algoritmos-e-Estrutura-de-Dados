{
  "nbformat": 4,
  "nbformat_minor": 0,
  "metadata": {
    "colab": {
      "provenance": [],
      "authorship_tag": "ABX9TyNk6GSWFuhKaocHpR+HF4ha",
      "include_colab_link": true
    },
    "kernelspec": {
      "name": "python3",
      "display_name": "Python 3"
    },
    "language_info": {
      "name": "python"
    }
  },
  "cells": [
    {
      "cell_type": "markdown",
      "metadata": {
        "id": "view-in-github",
        "colab_type": "text"
      },
      "source": [
        "<a href=\"https://colab.research.google.com/github/vcoelh/Algoritmos-e-Estrutura-de-Dados/blob/main/robo.ipynb\" target=\"_parent\"><img src=\"https://colab.research.google.com/assets/colab-badge.svg\" alt=\"Open In Colab\"/></a>"
      ]
    },
    {
      "cell_type": "code",
      "execution_count": null,
      "metadata": {
        "colab": {
          "base_uri": "https://localhost:8080/",
          "height": 374
        },
        "id": "7IJpHPtHok-H",
        "outputId": "e8a06285-922f-422c-be92-b8580c16c49a"
      },
      "outputs": [
        {
          "output_type": "error",
          "ename": "ModuleNotFoundError",
          "evalue": "ignored",
          "traceback": [
            "\u001b[0;31m---------------------------------------------------------------------------\u001b[0m",
            "\u001b[0;31mModuleNotFoundError\u001b[0m                       Traceback (most recent call last)",
            "\u001b[0;32m<ipython-input-1-717e63d40163>\u001b[0m in \u001b[0;36m<cell line: 1>\u001b[0;34m()\u001b[0m\n\u001b[0;32m----> 1\u001b[0;31m \u001b[0;32mfrom\u001b[0m \u001b[0mselenium\u001b[0m \u001b[0;32mimport\u001b[0m \u001b[0mwebdriver\u001b[0m\u001b[0;34m\u001b[0m\u001b[0;34m\u001b[0m\u001b[0m\n\u001b[0m\u001b[1;32m      2\u001b[0m \u001b[0;32mfrom\u001b[0m \u001b[0mselenium\u001b[0m\u001b[0;34m.\u001b[0m\u001b[0mwebdriver\u001b[0m\u001b[0;34m.\u001b[0m\u001b[0mcommon\u001b[0m\u001b[0;34m.\u001b[0m\u001b[0mby\u001b[0m \u001b[0;32mimport\u001b[0m \u001b[0mBy\u001b[0m\u001b[0;34m\u001b[0m\u001b[0;34m\u001b[0m\u001b[0m\n\u001b[1;32m      3\u001b[0m \u001b[0;32mfrom\u001b[0m \u001b[0mwebdriver_manager\u001b[0m\u001b[0;34m.\u001b[0m\u001b[0mchrome\u001b[0m \u001b[0;32mimport\u001b[0m \u001b[0mChromeDriverManager\u001b[0m\u001b[0;34m\u001b[0m\u001b[0;34m\u001b[0m\u001b[0m\n\u001b[1;32m      4\u001b[0m \u001b[0;32mfrom\u001b[0m \u001b[0mselenium\u001b[0m\u001b[0;34m.\u001b[0m\u001b[0mwebdriver\u001b[0m\u001b[0;34m.\u001b[0m\u001b[0mchrome\u001b[0m\u001b[0;34m.\u001b[0m\u001b[0mservice\u001b[0m \u001b[0;32mimport\u001b[0m \u001b[0mService\u001b[0m\u001b[0;34m\u001b[0m\u001b[0;34m\u001b[0m\u001b[0m\n\u001b[1;32m      5\u001b[0m \u001b[0;32mimport\u001b[0m \u001b[0mpandas\u001b[0m \u001b[0;32mas\u001b[0m \u001b[0mpd\u001b[0m\u001b[0;34m\u001b[0m\u001b[0;34m\u001b[0m\u001b[0m\n",
            "\u001b[0;31mModuleNotFoundError\u001b[0m: No module named 'selenium'",
            "",
            "\u001b[0;31m---------------------------------------------------------------------------\u001b[0;32m\nNOTE: If your import is failing due to a missing package, you can\nmanually install dependencies using either !pip or !apt.\n\nTo view examples of installing some common dependencies, click the\n\"Open Examples\" button below.\n\u001b[0;31m---------------------------------------------------------------------------\u001b[0m\n"
          ],
          "errorDetails": {
            "actions": [
              {
                "action": "open_url",
                "actionText": "Open Examples",
                "url": "/notebooks/snippets/importing_libraries.ipynb"
              }
            ]
          }
        }
      ],
      "source": [
        "from selenium import webdriver\n",
        "from selenium.webdriver.common.by import By\n",
        "from webdriver_manager.chrome import ChromeDriverManager\n",
        "from selenium.webdriver.chrome.service import Service\n",
        "import pandas as pd\n",
        "from datetime import date, datetime\n",
        "from time import sleep\n",
        "from IPython.display import display\n",
        "import os\n",
        "\n",
        "class WebScraper:\n",
        "    def __init__(self):\n",
        "        self.navegador = self.iniciar_driver()\n",
        "\n",
        "    def pegar_title(self, EAN_t='.product-title'):\n",
        "        nome_elementos = self.navegador.find_element(By.CSS_SELECTOR, EAN_t).text\n",
        "        return nome_elementos\n",
        "\n",
        "    def pegar_preco(self, EAN_p='.product-price'):\n",
        "        preco_elemetos = self.navegador.find_element(By.CSS_SELECTOR, EAN_p)\n",
        "        return preco_elemetos.text.split('R$')[-1]\n",
        "\n",
        "    def pegar_url(self, EAN_u='.product-title > a'):\n",
        "        default_category = 'https://www.marchio.com/shop/category/ferramentaseletricas/'\n",
        "        lista_url = []\n",
        "        i = 0\n",
        "        while True:\n",
        "            i += 1\n",
        "            self.navegador.get(f'{default_category}?page={i}')\n",
        "            sleep(1)\n",
        "            boxs = self.navegador.find_elements(By.CSS_SELECTOR, EAN_u)\n",
        "\n",
        "            for url in boxs:\n",
        "                url = url.get_attribute('href')\n",
        "                lista_url.append(url)\n",
        "\n",
        "            if i == 2:\n",
        "                break\n",
        "\n",
        "        print(lista_url)\n",
        "        return lista_url\n",
        "\n",
        "    def print_screen(self, codigos, nome, folder_screenshot=\"screenshot\"):\n",
        "        current_dir = os.path.join(os.getcwd(), folder_screenshot)\n",
        "        os.makedirs(current_dir, exist_ok=True)\n",
        "\n",
        "        nome = nome.split(\" \")[0]\n",
        "        try:\n",
        "            nome = nome.replace(\"/\", \"-\")\n",
        "        except:\n",
        "            pass\n",
        "        codigo_produto_nome_produto_coleta_data_coleta = f'\\\\{codigos}_{nome}_{datetime.today().strftime(\"%d_%m_%Y\")}_coleta.png'\n",
        "\n",
        "        file_image = (os.path.abspath(folder_screenshot) + codigo_produto_nome_produto_coleta_data_coleta)\n",
        "        print(file_image)\n",
        "        self.navegador.save_screenshot(file_image)\n",
        "\n",
        "    def pegar_cod(self, EAN_i='.product-details p '):\n",
        "        imagem_elementos = self.navegador.find_element(By.CSS_SELECTOR, EAN_i)\n",
        "        return imagem_elementos.text.split('Cod.:')[-1]\n",
        "\n",
        "    def iniciar_driver(self):\n",
        "        servico = Service(ChromeDriverManager().install())\n",
        "        navegador = webdriver.Chrome(service=servico)\n",
        "        return navegador\n",
        "\n",
        "    def iterations(self):\n",
        "        dados = {'nome_produto_coleta': [], 'codigo_produto': [], 'preco_coleta': [], 'url_coleta': [], 'data_coleta': []}\n",
        "        link = self.pegar_url()\n",
        "        dados['url_coleta'].extend(link)\n",
        "\n",
        "        for url in link:\n",
        "            self.navegador.get(url)\n",
        "            nome = self.pegar_title()\n",
        "            dados['nome_produto_coleta'].append(nome)\n",
        "\n",
        "            preco = self.pegar_preco()\n",
        "            dados['preco_coleta'].append(preco)\n",
        "\n",
        "            codigos = self.pegar_cod()\n",
        "            dados['codigo_produto'].append(codigos)\n",
        "\n",
        "            self.print_screen(codigos=codigos, nome=nome, folder_screenshot='screenshot')\n",
        "\n",
        "        data_coleta = [date.today()] * len(dados['preco_coleta'])\n",
        "        dados['data_coleta'].extend(data_coleta)\n",
        "\n",
        "        self.navegador.quit()\n",
        "\n",
        "        df = pd.DataFrame(dados)\n",
        "        return df\n",
        "\n",
        "if __name__ == '__main__':\n",
        "    scraper = WebScraper()\n",
        "    dado = scraper.iterations()\n",
        "    display(dado)\n"
      ]
    }
  ]
}